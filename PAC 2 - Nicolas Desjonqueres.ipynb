{
 "cells": [
  {
   "cell_type": "markdown",
   "id": "3404486f",
   "metadata": {},
   "source": [
    "# PAC 2 - Nicolas Desjonqueres"
   ]
  },
  {
   "cell_type": "markdown",
   "id": "1d68104a",
   "metadata": {},
   "source": [
    "## Exercise 1"
   ]
  },
  {
   "cell_type": "markdown",
   "id": "95a1c981",
   "metadata": {},
   "source": [
    "(a) True. A global variable can be modified inside a function if it's referenced using \"global\" inside of the function.\n",
    "\n",
    "(b) False. When a file is opened using the \"with\" statement, it automatically closes the file when the block inside \"with\" ends.\n",
    "\n",
    "(c) True. The filter function in Python takes a function and an iterable as parameters and returns an iterator that applies the given function to each element of the iterable.\n",
    "\n",
    "(d) True. Anonymous functions, also known as lambda functions in Python, do not have a name and can be defined in a single expression."
   ]
  },
  {
   "cell_type": "markdown",
   "id": "b539a020",
   "metadata": {},
   "source": [
    "## Exercise 2"
   ]
  },
  {
   "cell_type": "code",
   "execution_count": 112,
   "id": "17926f1a",
   "metadata": {},
   "outputs": [],
   "source": [
    "import pandas as pd\n",
    "import os\n",
    "import shutil\n",
    "\n",
    "# I intentionally did not make additional modular functions because it was not needed here in my opinion, the...\n",
    "# ...code is not very long and pretty straight-forward with not a lot of logic operations.\n",
    "\n",
    "def ex_2(csv_path, output_path, number_of_years_to_go_back = 5, max_number_of_players_to_save = 5, csv_delim = \";\"):\n",
    "    # imports the data with a custom delimiter if needed\n",
    "    data = pd.read_csv(csv_path, delimiter=csv_delim) \n",
    "    \n",
    "    # the database path\n",
    "    db_path = output_path + \"/draft_db\" \n",
    "    \n",
    "    # deletes the dataabse directory if it exists with the output path given\n",
    "    if os.path.exists(db_path) and os.path.isdir(db_path): \n",
    "        shutil.rmtree(db_path)\n",
    "        \n",
    "    # creates the first folder of the database\n",
    "    os.mkdir(db_path) \n",
    "    \n",
    "    # sorts the data by year, descending\n",
    "    data = data.sort_values(by = \"year\", ascending = False, ignore_index = True) \n",
    "    \n",
    "    # gets the max year of the database which is the first row of the data\n",
    "    max_year = data.loc[0, \"year\"] \n",
    "    \n",
    "    # gets only the rows of the data that are requested (with the parameter number_of_years_to_go_back) \n",
    "    data = data[data[\"year\"] >= max_year - number_of_years_to_go_back] \n",
    "\n",
    "    # iterates though the data grouped by year\n",
    "    for y in data.groupby([\"year\"]): \n",
    "        year = y[0][0]\n",
    "\n",
    "        year_data = y[1]\n",
    "\n",
    "        # makes the year directory\n",
    "        os.mkdir(os.path.join(db_path, str(year)))\n",
    "\n",
    "        for n in year_data.groupby([\"nationality\"]):\n",
    "            nationality = n[0][0]\n",
    "\n",
    "            # sorts the players alphabetically\n",
    "            player_data = n[1].sort_values(by = \"player\", ignore_index = True) \n",
    "\n",
    "            # makes the directory for the nationality\n",
    "            os.mkdir(os.path.join(db_path, str(year), nationality)) \n",
    "            \n",
    "            player_count = 0\n",
    "            \n",
    "            for index, player in player_data.iterrows():\n",
    "                # if we surpassed the max number of players that we need, break out of the loop\n",
    "                if player_count >= max_number_of_players_to_save: \n",
    "                    break\n",
    "                \n",
    "                # the complete info string for each player\n",
    "                info_string = f'Team: {player[\"team\"]}; Amateur_team: {player[\"amateur_team\"]}; Age: {str(player[\"age\"])}; Position: {player[\"position\"]};'\n",
    "\n",
    "                # makes the directory for the player\n",
    "                os.mkdir(os.path.join(db_path, str(year), nationality, player[\"player\"])) \n",
    "                \n",
    "                # writes the info in the text file that we create when we open a new file with a non-existing path\n",
    "                with open(os.path.join(db_path, str(year), nationality, player[\"player\"], \"info.txt\"), \"x\") as file:\n",
    "                    file.write(info_string)\n",
    "                \n",
    "                player_count += 1\n",
    "            \n",
    "            \n",
    "    \n",
    "ex2(\"nhldraft.csv\", \"\", number_of_years_to_go_back = 2, max_number_of_players_to_save = 5, csv_delim = \",\")"
   ]
  },
  {
   "cell_type": "markdown",
   "id": "48748611",
   "metadata": {},
   "source": [
    "## Exercise 3"
   ]
  },
  {
   "cell_type": "markdown",
   "id": "dd4a5b16",
   "metadata": {},
   "source": [
    "#### 1."
   ]
  },
  {
   "cell_type": "code",
   "execution_count": 104,
   "id": "7f5269e0",
   "metadata": {},
   "outputs": [
    {
     "name": "stdout",
     "output_type": "stream",
     "text": [
      "[{'id': '1', 'year': '2022', 'overall_pick': '1', 'team': 'Montreal Canadiens', 'player': 'Juraj Slafkovsky', 'nationality': 'SK', 'position': 'LW', 'age': '18', 'to_year': '', 'amateur_team': 'TPS (Finland)', 'games_played': '', 'goals': '', 'assists': '', 'points': '', 'plus_minus': '', 'penalties_minutes': '', 'goalie_games_played': '', 'goalie_wins': '', 'goalie_losses': '', 'goalie_ties_overtime': '', 'save_percentage': '', 'goals_against_average': '', 'point_shares': ''}, {'id': '2', 'year': '2022', 'overall_pick': '2', 'team': 'New Jersey Devils', 'player': 'Simon Nemec', 'nationality': 'SK', 'position': 'D', 'age': '18', 'to_year': '', 'amateur_team': 'HK Nitra (Slovakia)', 'games_played': '', 'goals': '', 'assists': '', 'points': '', 'plus_minus': '', 'penalties_minutes': '', 'goalie_games_played': '', 'goalie_wins': '', 'goalie_losses': '', 'goalie_ties_overtime': '', 'save_percentage': '', 'goals_against_average': '', 'point_shares': ''}]\n"
     ]
    }
   ],
   "source": [
    "import csv\n",
    "\n",
    "def ex_3_1(file_path):\n",
    "    with open(file_path, 'r', newline='') as file:\n",
    "        reader = csv.DictReader(file)\n",
    "        \n",
    "        data = list(map(dict, reader))\n",
    "        \n",
    "    return data\n",
    "\n",
    "data_to_list = ex_3_1(\"nhldraft.csv\")\n",
    "\n",
    "print(data_to_list[:2])"
   ]
  },
  {
   "cell_type": "markdown",
   "id": "ecce3325",
   "metadata": {},
   "source": [
    "#### 2."
   ]
  },
  {
   "cell_type": "code",
   "execution_count": 14,
   "id": "242777d0",
   "metadata": {},
   "outputs": [
    {
     "name": "stdout",
     "output_type": "stream",
     "text": [
      "[{'id': '8', 'year': '2022', 'overall_pick': '8', 'team': 'Detroit Red Wings', 'player': 'Marco Kasper', 'nationality': 'AT', 'position': 'C', 'age': '18', 'to_year': '', 'amateur_team': 'Rogle BK (Sweden)', 'games_played': '', 'goals': '', 'assists': '', 'points': '', 'plus_minus': '', 'penalties_minutes': '', 'goalie_games_played': '', 'goalie_wins': '', 'goalie_losses': '', 'goalie_ties_overtime': '', 'save_percentage': '', 'goals_against_average': '', 'point_shares': ''}, {'id': '40', 'year': '2022', 'overall_pick': '40', 'team': 'Detroit Red Wings', 'player': 'Dylan James', 'nationality': 'CA', 'position': 'LW', 'age': '18', 'to_year': '', 'amateur_team': 'Sioux City Musketeers (USHL)', 'games_played': '', 'goals': '', 'assists': '', 'points': '', 'plus_minus': '', 'penalties_minutes': '', 'goalie_games_played': '', 'goalie_wins': '', 'goalie_losses': '', 'goalie_ties_overtime': '', 'save_percentage': '', 'goals_against_average': '', 'point_shares': ''}]\n"
     ]
    }
   ],
   "source": [
    "def ex_3_2(data, team_name):\n",
    "    filtered_players = list(filter(lambda player: player['team'] == team_name, data))\n",
    "    return filtered_players\n",
    "            \n",
    "print(ex_3_2(data_to_list, \"Detroit Red Wings\")[:2])"
   ]
  },
  {
   "cell_type": "markdown",
   "id": "3298db5d",
   "metadata": {},
   "source": [
    "#### 3."
   ]
  },
  {
   "cell_type": "code",
   "execution_count": null,
   "id": "1d88d81e",
   "metadata": {},
   "outputs": [],
   "source": [
    "def ex_3_3(data):\n",
    "    players_per_year = {}\n",
    "    years = list(map(lambda player: player['Year'], data))\n",
    "    for year in set(years):\n",
    "        players_per_year[year] = len(list(filter(lambda x: x == year, years)))\n",
    "    return players_per_year"
   ]
  },
  {
   "cell_type": "markdown",
   "id": "8cdc9740",
   "metadata": {},
   "source": [
    "## Exercise 4"
   ]
  },
  {
   "cell_type": "code",
   "execution_count": 152,
   "id": "88fb4c10",
   "metadata": {},
   "outputs": [
    {
     "name": "stdout",
     "output_type": "stream",
     "text": [
      "                                        title  \\\n",
      "0                    ﻿I. A SCANDAL IN BOHEMIA   \n",
      "1                   II. THE RED-HEADED LEAGUE   \n",
      "2                     III. A CASE OF IDENTITY   \n",
      "3             IV. THE BOSCOMBE VALLEY MYSTERY   \n",
      "4                     V. THE FIVE ORANGE PIPS   \n",
      "5            VI. THE MAN WITH THE TWISTED LIP   \n",
      "6    VII. THE ADVENTURE OF THE BLUE CARBUNCLE   \n",
      "7    VIII. THE ADVENTURE OF THE SPECKLED BAND   \n",
      "8   IX. THE ADVENTURE OF THE ENGINEER’S THUMB   \n",
      "9      X. THE ADVENTURE OF THE NOBLE BACHELOR   \n",
      "10     XI. THE ADVENTURE OF THE BERYL CORONET   \n",
      "11   XII. THE ADVENTURE OF THE COPPER BEECHES   \n",
      "\n",
      "                                                 text  \n",
      "0   To Sherlock Holmes she is always _the_ woman. ...  \n",
      "1   I had called upon my friend, Mr. Sherlock Holm...  \n",
      "2   “My dear fellow,” said Sherlock Holmes as we s...  \n",
      "3   We were seated at breakfast one morning, my wi...  \n",
      "4   When I glance over my notes and records of the...  \n",
      "5   Isa Whitney, brother of the late Elias Whitney...  \n",
      "6   I had called upon my friend Sherlock Holmes up...  \n",
      "7   On glancing over my notes of the seventy odd c...  \n",
      "8   Of all the problems which have been submitted ...  \n",
      "9   The Lord St. Simon marriage, and its curious t...  \n",
      "10  “Holmes,” said I as I stood one morning in our...  \n",
      "11  “To the man who loves art for its own sake,” r...  \n"
     ]
    }
   ],
   "source": [
    "import pandas as pd\n",
    "\n",
    "def read_book(path):\n",
    "    with open(path, \"r\", encoding=\"utf8\") as file:\n",
    "        file_text = file.read()\n",
    "    \n",
    "    chapters_list = file_text.split(\"\\n\\n\\n\\n\\n\")\n",
    "    \n",
    "    chapters_dict = [{\"title\": chapter.split(\"\\n\")[0], \"text\": chapter[len(chapter.split(\"\\n\")[0]):].strip(\"\\n\").strip()} for chapter in chapters_list]\n",
    "    \n",
    "    #chapters_dict = [{\"title\": chapter.split(\"\\n\")[0], \"text\": chapter[len(chapter.split(\"\\n\")[0]):].strip(\"\\n\").strip()} for chapter in chapters_list]\n",
    "    \n",
    "    return pd.DataFrame.from_dict(chapters_dict)\n",
    "    \n",
    "print(read_book(\"The Adventures of Sherlock Holmes.txt\"))"
   ]
  },
  {
   "cell_type": "code",
   "execution_count": 157,
   "id": "b6cc4068",
   "metadata": {},
   "outputs": [],
   "source": [
    "import os\n",
    "import shutil\n",
    "\n",
    "def split_chapters_into_files(data, output_folder):\n",
    "    book_path = output_folder\n",
    "    \n",
    "    if os.path.exists(book_path) and os.path.isdir(book_path): \n",
    "        shutil.rmtree(book_path)\n",
    "    \n",
    "    os.mkdir(book_path)\n",
    "        \n",
    "    for index, chapter in data.iterrows():\n",
    "        \n",
    "        with open(os.path.join(book_path, f'chapter_{str(index)}.txt'), \"x\") as file:\n",
    "            file.write(chapter[\"text\"])\n",
    "\n",
    "book = read_book(\"The Adventures of Sherlock Holmes.txt\")\n",
    "\n",
    "split_chapters_into_files(book, \"Chapters\")"
   ]
  },
  {
   "cell_type": "code",
   "execution_count": 154,
   "id": "440ec338",
   "metadata": {
    "scrolled": true
   },
   "outputs": [
    {
     "name": "stdout",
     "output_type": "stream",
     "text": [
      "['chapter_0.txt', 'chapter_1.txt', 'chapter_10.txt', 'chapter_11.txt', 'chapter_2.txt', 'chapter_3.txt', 'chapter_4.txt', 'chapter_5.txt', 'chapter_6.txt', 'chapter_7.txt', 'chapter_8.txt', 'chapter_9.txt']\n"
     ]
    }
   ],
   "source": [
    "import zipfile\n",
    "\n",
    "def compress_files(chapters_folder, zip_name, kind = \"zip\"):    \n",
    "    chapter_files = [f for f in os.listdir(chapters_folder) if f.startswith(\"chapter\") and f.endswith(\".txt\")]\n",
    "    print(chapter_files)\n",
    "    \n",
    "    with zipfile.ZipFile(zip_name + f'.{kind}', 'w') as zipf:\n",
    "            for chapter_file in chapter_files:\n",
    "                zipf.write(os.path.join(chapters_folder, chapter_file), chapter_file)\n",
    "    \n",
    "compress_files(\"Chapters\", \"ababa\")"
   ]
  },
  {
   "cell_type": "code",
   "execution_count": 155,
   "id": "691069fd",
   "metadata": {},
   "outputs": [],
   "source": [
    "def get_size(path):\n",
    "    # Check if the path exists\n",
    "    if not os.path.exists(path):\n",
    "        print(f\"Path '{path}' does not exist.\")\n",
    "    \n",
    "    # If it's a directory, calculate the total size of all files inside\n",
    "    if os.path.isdir(path):\n",
    "        total_size = sum(os.path.getsize(os.path.join(path, f)) for f in os.listdir(path))\n",
    "        print(f\"The size of the folder '{path}' is {total_size / 1024:.2f} KB.\")\n",
    "        return total_size / 1024\n",
    "    # If it's a file, get its size\n",
    "    elif os.path.isfile(path):\n",
    "        file_size = os.path.getsize(path)\n",
    "        print(f\"The size of the file '{path}' is {file_size / 1024:.2f} KB.\")\n",
    "        return file_size / 1024\n",
    "    # If it's neither a file nor a directory, return an error message\n",
    "    else:\n",
    "        print(f\"'{path}' is neither a file nor a directory.\")\n",
    "        return -1"
   ]
  },
  {
   "cell_type": "code",
   "execution_count": 162,
   "id": "1ab21091",
   "metadata": {},
   "outputs": [
    {
     "name": "stdout",
     "output_type": "stream",
     "text": [
      "['chapter_0.txt', 'chapter_1.txt', 'chapter_10.txt', 'chapter_11.txt', 'chapter_2.txt', 'chapter_3.txt', 'chapter_4.txt', 'chapter_5.txt', 'chapter_6.txt', 'chapter_7.txt', 'chapter_8.txt', 'chapter_9.txt']\n",
      "['chapter_0.txt', 'chapter_1.txt', 'chapter_10.txt', 'chapter_11.txt', 'chapter_2.txt', 'chapter_3.txt', 'chapter_4.txt', 'chapter_5.txt', 'chapter_6.txt', 'chapter_7.txt', 'chapter_8.txt', 'chapter_9.txt']\n",
      "The size of the folder 'Chapters' is 559.52 KB.\n",
      "The size of the file 'The Adventures of Sherlock Holmes.zip' is 560.74 KB.\n",
      "The size of the file 'The Adventures of Sherlock Holmes.tar' is 560.74 KB.\n"
     ]
    }
   ],
   "source": [
    "book=read_book('The Adventures of Sherlock Holmes.txt')\n",
    "\n",
    "split_chapters_into_files(book,'Chapters')\n",
    "\n",
    "compress_files('Chapters','The Adventures of Sherlock Holmes',kind='zip')\n",
    "compress_files( 'Chapters','The Adventures of Sherlock Holmes',kind='tar')\n",
    "\n",
    "def test_get_size():\n",
    "    # Check the size of the Chapters folder\n",
    "    folder_size=get_size(\"Chapters\")\n",
    "    assert folder_size>=555 and folder_size<=565,f\"Unexpected folder size:{folder_size}KB\"\n",
    "    # Check the size of the zip file\n",
    "    zip_size=get_size(\"The Adventures of Sherlock Holmes.zip\")\n",
    "    assert zip_size>=555 and zip_size<=575,f\"Unexpected zip file size:{zip_size}KB\"\n",
    "    # Check the size of the tar file\n",
    "    tar_size=get_size(\"The Adventures of Sherlock Holmes.tar\")\n",
    "    assert tar_size>=555 and tar_size<=595,f\"Unexpected tar file size:{tar_size}KB\"\n",
    "test_get_size()"
   ]
  }
 ],
 "metadata": {
  "kernelspec": {
   "display_name": "Python 3 (ipykernel)",
   "language": "python",
   "name": "python3"
  },
  "language_info": {
   "codemirror_mode": {
    "name": "ipython",
    "version": 3
   },
   "file_extension": ".py",
   "mimetype": "text/x-python",
   "name": "python",
   "nbconvert_exporter": "python",
   "pygments_lexer": "ipython3",
   "version": "3.11.5"
  }
 },
 "nbformat": 4,
 "nbformat_minor": 5
}
